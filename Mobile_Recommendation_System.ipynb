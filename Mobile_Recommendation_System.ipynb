{
  "nbformat": 4,
  "nbformat_minor": 0,
  "metadata": {
    "colab": {
      "provenance": [],
      "authorship_tag": "ABX9TyOJWnqebkPKczFfDWWYQord",
      "include_colab_link": true
    },
    "kernelspec": {
      "name": "python3",
      "display_name": "Python 3"
    },
    "language_info": {
      "name": "python"
    }
  },
  "cells": [
    {
      "cell_type": "markdown",
      "metadata": {
        "id": "view-in-github",
        "colab_type": "text"
      },
      "source": [
        "<a href=\"https://colab.research.google.com/github/Anshad-Aziz/Machine_Learning/blob/main/Mobile_Recommendation_System.ipynb\" target=\"_parent\"><img src=\"https://colab.research.google.com/assets/colab-badge.svg\" alt=\"Open In Colab\"/></a>"
      ]
    },
    {
      "cell_type": "code",
      "execution_count": 1,
      "metadata": {
        "id": "uD3EQ6fsQWE6"
      },
      "outputs": [],
      "source": [
        "import pandas as pd\n",
        "import numpy as np\n",
        "import os\n",
        "import re\n",
        "import pickle"
      ]
    },
    {
      "cell_type": "code",
      "source": [
        "df=pd.read_csv('mobile_recommendation_system_dataset.csv')"
      ],
      "metadata": {
        "id": "X8vaJbn_RniJ"
      },
      "execution_count": 2,
      "outputs": []
    },
    {
      "cell_type": "code",
      "source": [
        "df.head(5)"
      ],
      "metadata": {
        "colab": {
          "base_uri": "https://localhost:8080/",
          "height": 475
        },
        "id": "9Ks6yZoFRybN",
        "outputId": "9aea69d8-1b48-412a-d856-90acd1a5287a"
      },
      "execution_count": 3,
      "outputs": [
        {
          "output_type": "execute_result",
          "data": {
            "text/plain": [
              "                                        name  ratings    price  \\\n",
              "0  REDMI Note 12 Pro 5G (Onyx Black, 128 GB)      4.2    23999   \n",
              "1        OPPO F11 Pro (Aurora Green, 128 GB)      4.5  ₹20,999   \n",
              "2     REDMI Note 11 (Starburst White, 64 GB)      4.2    13149   \n",
              "3     OnePlus Nord CE 5G (Blue Void, 256 GB)      4.1    21999   \n",
              "4        APPLE iPhone 13 mini (Blue, 128 GB)      4.6     3537   \n",
              "\n",
              "                                              imgURL  \\\n",
              "0  https://rukminim2.flixcart.com/image/312/312/x...   \n",
              "1  https://rukminim2.flixcart.com/image/312/312/k...   \n",
              "2  https://rukminim2.flixcart.com/image/312/312/x...   \n",
              "3  https://rukminim2.flixcart.com/image/312/312/x...   \n",
              "4  https://rukminim2.flixcart.com/image/312/312/k...   \n",
              "\n",
              "                                              corpus  \n",
              "0  Storage128 GBRAM6  SystemAndroid 12Processor T...  \n",
              "1  Storage128 GBRAM6 GBExpandable Storage256GB  S...  \n",
              "2  Storage64 GBRAM4  SystemAndroid 11Processor Sp...  \n",
              "3  Storage256 GBRAM12  SystemAndroid Q 11Processo...  \n",
              "4  Storage128  SystemiOS 15Processor TypeA15 Bion...  "
            ],
            "text/html": [
              "\n",
              "\n",
              "  <div id=\"df-e851dca6-6dda-4508-8f37-bbae86123a22\">\n",
              "    <div class=\"colab-df-container\">\n",
              "      <div>\n",
              "<style scoped>\n",
              "    .dataframe tbody tr th:only-of-type {\n",
              "        vertical-align: middle;\n",
              "    }\n",
              "\n",
              "    .dataframe tbody tr th {\n",
              "        vertical-align: top;\n",
              "    }\n",
              "\n",
              "    .dataframe thead th {\n",
              "        text-align: right;\n",
              "    }\n",
              "</style>\n",
              "<table border=\"1\" class=\"dataframe\">\n",
              "  <thead>\n",
              "    <tr style=\"text-align: right;\">\n",
              "      <th></th>\n",
              "      <th>name</th>\n",
              "      <th>ratings</th>\n",
              "      <th>price</th>\n",
              "      <th>imgURL</th>\n",
              "      <th>corpus</th>\n",
              "    </tr>\n",
              "  </thead>\n",
              "  <tbody>\n",
              "    <tr>\n",
              "      <th>0</th>\n",
              "      <td>REDMI Note 12 Pro 5G (Onyx Black, 128 GB)</td>\n",
              "      <td>4.2</td>\n",
              "      <td>23999</td>\n",
              "      <td>https://rukminim2.flixcart.com/image/312/312/x...</td>\n",
              "      <td>Storage128 GBRAM6  SystemAndroid 12Processor T...</td>\n",
              "    </tr>\n",
              "    <tr>\n",
              "      <th>1</th>\n",
              "      <td>OPPO F11 Pro (Aurora Green, 128 GB)</td>\n",
              "      <td>4.5</td>\n",
              "      <td>₹20,999</td>\n",
              "      <td>https://rukminim2.flixcart.com/image/312/312/k...</td>\n",
              "      <td>Storage128 GBRAM6 GBExpandable Storage256GB  S...</td>\n",
              "    </tr>\n",
              "    <tr>\n",
              "      <th>2</th>\n",
              "      <td>REDMI Note 11 (Starburst White, 64 GB)</td>\n",
              "      <td>4.2</td>\n",
              "      <td>13149</td>\n",
              "      <td>https://rukminim2.flixcart.com/image/312/312/x...</td>\n",
              "      <td>Storage64 GBRAM4  SystemAndroid 11Processor Sp...</td>\n",
              "    </tr>\n",
              "    <tr>\n",
              "      <th>3</th>\n",
              "      <td>OnePlus Nord CE 5G (Blue Void, 256 GB)</td>\n",
              "      <td>4.1</td>\n",
              "      <td>21999</td>\n",
              "      <td>https://rukminim2.flixcart.com/image/312/312/x...</td>\n",
              "      <td>Storage256 GBRAM12  SystemAndroid Q 11Processo...</td>\n",
              "    </tr>\n",
              "    <tr>\n",
              "      <th>4</th>\n",
              "      <td>APPLE iPhone 13 mini (Blue, 128 GB)</td>\n",
              "      <td>4.6</td>\n",
              "      <td>3537</td>\n",
              "      <td>https://rukminim2.flixcart.com/image/312/312/k...</td>\n",
              "      <td>Storage128  SystemiOS 15Processor TypeA15 Bion...</td>\n",
              "    </tr>\n",
              "  </tbody>\n",
              "</table>\n",
              "</div>\n",
              "      <button class=\"colab-df-convert\" onclick=\"convertToInteractive('df-e851dca6-6dda-4508-8f37-bbae86123a22')\"\n",
              "              title=\"Convert this dataframe to an interactive table.\"\n",
              "              style=\"display:none;\">\n",
              "\n",
              "  <svg xmlns=\"http://www.w3.org/2000/svg\" height=\"24px\"viewBox=\"0 0 24 24\"\n",
              "       width=\"24px\">\n",
              "    <path d=\"M0 0h24v24H0V0z\" fill=\"none\"/>\n",
              "    <path d=\"M18.56 5.44l.94 2.06.94-2.06 2.06-.94-2.06-.94-.94-2.06-.94 2.06-2.06.94zm-11 1L8.5 8.5l.94-2.06 2.06-.94-2.06-.94L8.5 2.5l-.94 2.06-2.06.94zm10 10l.94 2.06.94-2.06 2.06-.94-2.06-.94-.94-2.06-.94 2.06-2.06.94z\"/><path d=\"M17.41 7.96l-1.37-1.37c-.4-.4-.92-.59-1.43-.59-.52 0-1.04.2-1.43.59L10.3 9.45l-7.72 7.72c-.78.78-.78 2.05 0 2.83L4 21.41c.39.39.9.59 1.41.59.51 0 1.02-.2 1.41-.59l7.78-7.78 2.81-2.81c.8-.78.8-2.07 0-2.86zM5.41 20L4 18.59l7.72-7.72 1.47 1.35L5.41 20z\"/>\n",
              "  </svg>\n",
              "      </button>\n",
              "\n",
              "\n",
              "\n",
              "    <div id=\"df-41552fe9-b9d4-4618-94fa-152de84271ad\">\n",
              "      <button class=\"colab-df-quickchart\" onclick=\"quickchart('df-41552fe9-b9d4-4618-94fa-152de84271ad')\"\n",
              "              title=\"Suggest charts.\"\n",
              "              style=\"display:none;\">\n",
              "\n",
              "<svg xmlns=\"http://www.w3.org/2000/svg\" height=\"24px\"viewBox=\"0 0 24 24\"\n",
              "     width=\"24px\">\n",
              "    <g>\n",
              "        <path d=\"M19 3H5c-1.1 0-2 .9-2 2v14c0 1.1.9 2 2 2h14c1.1 0 2-.9 2-2V5c0-1.1-.9-2-2-2zM9 17H7v-7h2v7zm4 0h-2V7h2v10zm4 0h-2v-4h2v4z\"/>\n",
              "    </g>\n",
              "</svg>\n",
              "      </button>\n",
              "    </div>\n",
              "\n",
              "<style>\n",
              "  .colab-df-quickchart {\n",
              "    background-color: #E8F0FE;\n",
              "    border: none;\n",
              "    border-radius: 50%;\n",
              "    cursor: pointer;\n",
              "    display: none;\n",
              "    fill: #1967D2;\n",
              "    height: 32px;\n",
              "    padding: 0 0 0 0;\n",
              "    width: 32px;\n",
              "  }\n",
              "\n",
              "  .colab-df-quickchart:hover {\n",
              "    background-color: #E2EBFA;\n",
              "    box-shadow: 0px 1px 2px rgba(60, 64, 67, 0.3), 0px 1px 3px 1px rgba(60, 64, 67, 0.15);\n",
              "    fill: #174EA6;\n",
              "  }\n",
              "\n",
              "  [theme=dark] .colab-df-quickchart {\n",
              "    background-color: #3B4455;\n",
              "    fill: #D2E3FC;\n",
              "  }\n",
              "\n",
              "  [theme=dark] .colab-df-quickchart:hover {\n",
              "    background-color: #434B5C;\n",
              "    box-shadow: 0px 1px 3px 1px rgba(0, 0, 0, 0.15);\n",
              "    filter: drop-shadow(0px 1px 2px rgba(0, 0, 0, 0.3));\n",
              "    fill: #FFFFFF;\n",
              "  }\n",
              "</style>\n",
              "\n",
              "    <script>\n",
              "      async function quickchart(key) {\n",
              "        const containerElement = document.querySelector('#' + key);\n",
              "        const charts = await google.colab.kernel.invokeFunction(\n",
              "            'suggestCharts', [key], {});\n",
              "      }\n",
              "    </script>\n",
              "\n",
              "      <script>\n",
              "\n",
              "function displayQuickchartButton(domScope) {\n",
              "  let quickchartButtonEl =\n",
              "    domScope.querySelector('#df-41552fe9-b9d4-4618-94fa-152de84271ad button.colab-df-quickchart');\n",
              "  quickchartButtonEl.style.display =\n",
              "    google.colab.kernel.accessAllowed ? 'block' : 'none';\n",
              "}\n",
              "\n",
              "        displayQuickchartButton(document);\n",
              "      </script>\n",
              "      <style>\n",
              "    .colab-df-container {\n",
              "      display:flex;\n",
              "      flex-wrap:wrap;\n",
              "      gap: 12px;\n",
              "    }\n",
              "\n",
              "    .colab-df-convert {\n",
              "      background-color: #E8F0FE;\n",
              "      border: none;\n",
              "      border-radius: 50%;\n",
              "      cursor: pointer;\n",
              "      display: none;\n",
              "      fill: #1967D2;\n",
              "      height: 32px;\n",
              "      padding: 0 0 0 0;\n",
              "      width: 32px;\n",
              "    }\n",
              "\n",
              "    .colab-df-convert:hover {\n",
              "      background-color: #E2EBFA;\n",
              "      box-shadow: 0px 1px 2px rgba(60, 64, 67, 0.3), 0px 1px 3px 1px rgba(60, 64, 67, 0.15);\n",
              "      fill: #174EA6;\n",
              "    }\n",
              "\n",
              "    [theme=dark] .colab-df-convert {\n",
              "      background-color: #3B4455;\n",
              "      fill: #D2E3FC;\n",
              "    }\n",
              "\n",
              "    [theme=dark] .colab-df-convert:hover {\n",
              "      background-color: #434B5C;\n",
              "      box-shadow: 0px 1px 3px 1px rgba(0, 0, 0, 0.15);\n",
              "      filter: drop-shadow(0px 1px 2px rgba(0, 0, 0, 0.3));\n",
              "      fill: #FFFFFF;\n",
              "    }\n",
              "  </style>\n",
              "\n",
              "      <script>\n",
              "        const buttonEl =\n",
              "          document.querySelector('#df-e851dca6-6dda-4508-8f37-bbae86123a22 button.colab-df-convert');\n",
              "        buttonEl.style.display =\n",
              "          google.colab.kernel.accessAllowed ? 'block' : 'none';\n",
              "\n",
              "        async function convertToInteractive(key) {\n",
              "          const element = document.querySelector('#df-e851dca6-6dda-4508-8f37-bbae86123a22');\n",
              "          const dataTable =\n",
              "            await google.colab.kernel.invokeFunction('convertToInteractive',\n",
              "                                                     [key], {});\n",
              "          if (!dataTable) return;\n",
              "\n",
              "          const docLinkHtml = 'Like what you see? Visit the ' +\n",
              "            '<a target=\"_blank\" href=https://colab.research.google.com/notebooks/data_table.ipynb>data table notebook</a>'\n",
              "            + ' to learn more about interactive tables.';\n",
              "          element.innerHTML = '';\n",
              "          dataTable['output_type'] = 'display_data';\n",
              "          await google.colab.output.renderOutput(dataTable, element);\n",
              "          const docLink = document.createElement('div');\n",
              "          docLink.innerHTML = docLinkHtml;\n",
              "          element.appendChild(docLink);\n",
              "        }\n",
              "      </script>\n",
              "    </div>\n",
              "  </div>\n"
            ]
          },
          "metadata": {},
          "execution_count": 3
        }
      ]
    },
    {
      "cell_type": "code",
      "source": [
        "df.describe()"
      ],
      "metadata": {
        "colab": {
          "base_uri": "https://localhost:8080/",
          "height": 300
        },
        "id": "bCD-zrFlRyd0",
        "outputId": "bf8f78ef-5470-4f7d-f5be-b2cebfa20753"
      },
      "execution_count": 4,
      "outputs": [
        {
          "output_type": "execute_result",
          "data": {
            "text/plain": [
              "           ratings\n",
              "count  2546.000000\n",
              "mean      4.295797\n",
              "std       0.214691\n",
              "min       2.900000\n",
              "25%       4.200000\n",
              "50%       4.300000\n",
              "75%       4.400000\n",
              "max       5.000000"
            ],
            "text/html": [
              "\n",
              "\n",
              "  <div id=\"df-f02245a2-4d7c-4756-8a97-f0468b6b089c\">\n",
              "    <div class=\"colab-df-container\">\n",
              "      <div>\n",
              "<style scoped>\n",
              "    .dataframe tbody tr th:only-of-type {\n",
              "        vertical-align: middle;\n",
              "    }\n",
              "\n",
              "    .dataframe tbody tr th {\n",
              "        vertical-align: top;\n",
              "    }\n",
              "\n",
              "    .dataframe thead th {\n",
              "        text-align: right;\n",
              "    }\n",
              "</style>\n",
              "<table border=\"1\" class=\"dataframe\">\n",
              "  <thead>\n",
              "    <tr style=\"text-align: right;\">\n",
              "      <th></th>\n",
              "      <th>ratings</th>\n",
              "    </tr>\n",
              "  </thead>\n",
              "  <tbody>\n",
              "    <tr>\n",
              "      <th>count</th>\n",
              "      <td>2546.000000</td>\n",
              "    </tr>\n",
              "    <tr>\n",
              "      <th>mean</th>\n",
              "      <td>4.295797</td>\n",
              "    </tr>\n",
              "    <tr>\n",
              "      <th>std</th>\n",
              "      <td>0.214691</td>\n",
              "    </tr>\n",
              "    <tr>\n",
              "      <th>min</th>\n",
              "      <td>2.900000</td>\n",
              "    </tr>\n",
              "    <tr>\n",
              "      <th>25%</th>\n",
              "      <td>4.200000</td>\n",
              "    </tr>\n",
              "    <tr>\n",
              "      <th>50%</th>\n",
              "      <td>4.300000</td>\n",
              "    </tr>\n",
              "    <tr>\n",
              "      <th>75%</th>\n",
              "      <td>4.400000</td>\n",
              "    </tr>\n",
              "    <tr>\n",
              "      <th>max</th>\n",
              "      <td>5.000000</td>\n",
              "    </tr>\n",
              "  </tbody>\n",
              "</table>\n",
              "</div>\n",
              "      <button class=\"colab-df-convert\" onclick=\"convertToInteractive('df-f02245a2-4d7c-4756-8a97-f0468b6b089c')\"\n",
              "              title=\"Convert this dataframe to an interactive table.\"\n",
              "              style=\"display:none;\">\n",
              "\n",
              "  <svg xmlns=\"http://www.w3.org/2000/svg\" height=\"24px\"viewBox=\"0 0 24 24\"\n",
              "       width=\"24px\">\n",
              "    <path d=\"M0 0h24v24H0V0z\" fill=\"none\"/>\n",
              "    <path d=\"M18.56 5.44l.94 2.06.94-2.06 2.06-.94-2.06-.94-.94-2.06-.94 2.06-2.06.94zm-11 1L8.5 8.5l.94-2.06 2.06-.94-2.06-.94L8.5 2.5l-.94 2.06-2.06.94zm10 10l.94 2.06.94-2.06 2.06-.94-2.06-.94-.94-2.06-.94 2.06-2.06.94z\"/><path d=\"M17.41 7.96l-1.37-1.37c-.4-.4-.92-.59-1.43-.59-.52 0-1.04.2-1.43.59L10.3 9.45l-7.72 7.72c-.78.78-.78 2.05 0 2.83L4 21.41c.39.39.9.59 1.41.59.51 0 1.02-.2 1.41-.59l7.78-7.78 2.81-2.81c.8-.78.8-2.07 0-2.86zM5.41 20L4 18.59l7.72-7.72 1.47 1.35L5.41 20z\"/>\n",
              "  </svg>\n",
              "      </button>\n",
              "\n",
              "\n",
              "\n",
              "    <div id=\"df-b2644fbf-7bd0-4049-bb0e-7699dc64aaf2\">\n",
              "      <button class=\"colab-df-quickchart\" onclick=\"quickchart('df-b2644fbf-7bd0-4049-bb0e-7699dc64aaf2')\"\n",
              "              title=\"Suggest charts.\"\n",
              "              style=\"display:none;\">\n",
              "\n",
              "<svg xmlns=\"http://www.w3.org/2000/svg\" height=\"24px\"viewBox=\"0 0 24 24\"\n",
              "     width=\"24px\">\n",
              "    <g>\n",
              "        <path d=\"M19 3H5c-1.1 0-2 .9-2 2v14c0 1.1.9 2 2 2h14c1.1 0 2-.9 2-2V5c0-1.1-.9-2-2-2zM9 17H7v-7h2v7zm4 0h-2V7h2v10zm4 0h-2v-4h2v4z\"/>\n",
              "    </g>\n",
              "</svg>\n",
              "      </button>\n",
              "    </div>\n",
              "\n",
              "<style>\n",
              "  .colab-df-quickchart {\n",
              "    background-color: #E8F0FE;\n",
              "    border: none;\n",
              "    border-radius: 50%;\n",
              "    cursor: pointer;\n",
              "    display: none;\n",
              "    fill: #1967D2;\n",
              "    height: 32px;\n",
              "    padding: 0 0 0 0;\n",
              "    width: 32px;\n",
              "  }\n",
              "\n",
              "  .colab-df-quickchart:hover {\n",
              "    background-color: #E2EBFA;\n",
              "    box-shadow: 0px 1px 2px rgba(60, 64, 67, 0.3), 0px 1px 3px 1px rgba(60, 64, 67, 0.15);\n",
              "    fill: #174EA6;\n",
              "  }\n",
              "\n",
              "  [theme=dark] .colab-df-quickchart {\n",
              "    background-color: #3B4455;\n",
              "    fill: #D2E3FC;\n",
              "  }\n",
              "\n",
              "  [theme=dark] .colab-df-quickchart:hover {\n",
              "    background-color: #434B5C;\n",
              "    box-shadow: 0px 1px 3px 1px rgba(0, 0, 0, 0.15);\n",
              "    filter: drop-shadow(0px 1px 2px rgba(0, 0, 0, 0.3));\n",
              "    fill: #FFFFFF;\n",
              "  }\n",
              "</style>\n",
              "\n",
              "    <script>\n",
              "      async function quickchart(key) {\n",
              "        const containerElement = document.querySelector('#' + key);\n",
              "        const charts = await google.colab.kernel.invokeFunction(\n",
              "            'suggestCharts', [key], {});\n",
              "      }\n",
              "    </script>\n",
              "\n",
              "      <script>\n",
              "\n",
              "function displayQuickchartButton(domScope) {\n",
              "  let quickchartButtonEl =\n",
              "    domScope.querySelector('#df-b2644fbf-7bd0-4049-bb0e-7699dc64aaf2 button.colab-df-quickchart');\n",
              "  quickchartButtonEl.style.display =\n",
              "    google.colab.kernel.accessAllowed ? 'block' : 'none';\n",
              "}\n",
              "\n",
              "        displayQuickchartButton(document);\n",
              "      </script>\n",
              "      <style>\n",
              "    .colab-df-container {\n",
              "      display:flex;\n",
              "      flex-wrap:wrap;\n",
              "      gap: 12px;\n",
              "    }\n",
              "\n",
              "    .colab-df-convert {\n",
              "      background-color: #E8F0FE;\n",
              "      border: none;\n",
              "      border-radius: 50%;\n",
              "      cursor: pointer;\n",
              "      display: none;\n",
              "      fill: #1967D2;\n",
              "      height: 32px;\n",
              "      padding: 0 0 0 0;\n",
              "      width: 32px;\n",
              "    }\n",
              "\n",
              "    .colab-df-convert:hover {\n",
              "      background-color: #E2EBFA;\n",
              "      box-shadow: 0px 1px 2px rgba(60, 64, 67, 0.3), 0px 1px 3px 1px rgba(60, 64, 67, 0.15);\n",
              "      fill: #174EA6;\n",
              "    }\n",
              "\n",
              "    [theme=dark] .colab-df-convert {\n",
              "      background-color: #3B4455;\n",
              "      fill: #D2E3FC;\n",
              "    }\n",
              "\n",
              "    [theme=dark] .colab-df-convert:hover {\n",
              "      background-color: #434B5C;\n",
              "      box-shadow: 0px 1px 3px 1px rgba(0, 0, 0, 0.15);\n",
              "      filter: drop-shadow(0px 1px 2px rgba(0, 0, 0, 0.3));\n",
              "      fill: #FFFFFF;\n",
              "    }\n",
              "  </style>\n",
              "\n",
              "      <script>\n",
              "        const buttonEl =\n",
              "          document.querySelector('#df-f02245a2-4d7c-4756-8a97-f0468b6b089c button.colab-df-convert');\n",
              "        buttonEl.style.display =\n",
              "          google.colab.kernel.accessAllowed ? 'block' : 'none';\n",
              "\n",
              "        async function convertToInteractive(key) {\n",
              "          const element = document.querySelector('#df-f02245a2-4d7c-4756-8a97-f0468b6b089c');\n",
              "          const dataTable =\n",
              "            await google.colab.kernel.invokeFunction('convertToInteractive',\n",
              "                                                     [key], {});\n",
              "          if (!dataTable) return;\n",
              "\n",
              "          const docLinkHtml = 'Like what you see? Visit the ' +\n",
              "            '<a target=\"_blank\" href=https://colab.research.google.com/notebooks/data_table.ipynb>data table notebook</a>'\n",
              "            + ' to learn more about interactive tables.';\n",
              "          element.innerHTML = '';\n",
              "          dataTable['output_type'] = 'display_data';\n",
              "          await google.colab.output.renderOutput(dataTable, element);\n",
              "          const docLink = document.createElement('div');\n",
              "          docLink.innerHTML = docLinkHtml;\n",
              "          element.appendChild(docLink);\n",
              "        }\n",
              "      </script>\n",
              "    </div>\n",
              "  </div>\n"
            ]
          },
          "metadata": {},
          "execution_count": 4
        }
      ]
    },
    {
      "cell_type": "code",
      "source": [
        "def random_values(col_name:str,total=6):\n",
        "  for i in range(0,total):\n",
        "    index=np.random.randint(df.shape[0])\n",
        "    print(index,':',df[col_name].iloc[index])"
      ],
      "metadata": {
        "id": "UQwmBsSSRyiv"
      },
      "execution_count": 5,
      "outputs": []
    },
    {
      "cell_type": "code",
      "source": [
        "random_values('corpus')"
      ],
      "metadata": {
        "colab": {
          "base_uri": "https://localhost:8080/"
        },
        "id": "gqO9yeLHRyo6",
        "outputId": "06d68a4e-85f0-42f1-c42f-f7cdbed1b9dc"
      },
      "execution_count": 6,
      "outputs": [
        {
          "output_type": "stream",
          "name": "stdout",
          "text": [
            "1568 : Storage256  SystemiOS 16Processor TypeA15 Bionic Chip 12MP 12MP 12MP 12MP 63MP 12MP 12MP 5G notMentioned Display Size15.49 cm (6.1 inch)Resolution2532 x 1170 PixelsResolution TypeSuper Retina XDR DisplayGPU5 CoreDisplay TypeSuper Retina XDR DisplayOther Display FeaturesHDR Display, True Tone, Wide Colour (P3), Haptic Touch, Contrast Ratio: 20,00,000:1, Max Brightness: 800 nits, Peak Brightness: 1,200 nits, Fingerprint Resistant Oleophobic Coating, Support for Display of Multiple Languages and Characters Simultaneously\n",
            "1027 : Storage256 GBRAM12  SystemAndroid 13Processor TypeMediatek Dimensity 7200 5GProcessor Speed2.8 50MP 8MP 2MP 50MP 8MP 2MP 50MP 50MP 5G Capacity4600 Display Size17.22 cm (6.78 Inch)Resolution2400 x 1080 PixelsResolution TypeFull HD+ AMOLED DisplayDisplay TypeFull HD+ AMOLED Display\n",
            "1990 : Storage128  SystemiOS 15Processor TypeA15 Bionic Chip 12MP 12MP 12MP 12MP 63MP 12MP 12MP 5G notMentioned Display Size15.49 cm (6.1 inch)Resolution2532 x 1170 PixelsResolution TypeSuper Retina XDR DisplayDisplay TypeSuper Retina XDR DisplayOther Display FeaturesSuper Retina XDR Display, 6.1‑inch (Diagonal) All‑screen OLED Display, ProMotion Technology with Adaptive Refresh Rates up to 120Hz, HDR Display, True Tone, Wide Colour (P3), Haptic Touch, 20,00,000:1 Contrast Ratio (Typical), 1000 nits max Brightness (Typical), 1,200 nits max Brightness (HDR), Fingerprint-resistant Oleophobic Coating, Support for Display of Multiple Languages and Characters Simultaneously\n",
            "1984 : Storage128 GBRAM8  SystemAndroid Q 13Processor Speed2.2 64MP 5G Capacity4500 Display Size16.21 cm (6.38 inch)Resolution2400x1080$$ Pixels\n",
            "543 : Storage256  SystemiOS 15Processor TypeA15 Bionic Chip 12MP 12MP 12MP 63MP 12MP 12MP 5G Capacity2915 Display Size13.72 cm (5.4 inch)Resolution2340 x 1080 PixelsResolution TypeSuper Retina XDR DisplayDisplay TypeSuper Retina XDR DisplayOther Display FeaturesSuper Retina XDR Display, 5.4‑inch (Diagonal) All‑screen OLED Display, HDR Display, True Tone, Wide Colour (P3), Haptic Touch, 20,00,000:1 Contrast Ratio (Typical), 800 nits max Brightness (Typical), 1,200 nits max Brightness (HDR), Fingerprint-resistant Oleophobic Coating, Support for Display of Multiple Languages and Characters Simultaneously\n",
            "1311 : Storage128 GBRAM4 GBExpandable Storage256GB  SystemAndroid 11Processor TypeMediatek Helio G88Processor Speed2 8MP 4G Capacity5000 Display Size17.22 cm (6.78 inch)Resolution2480 x 1080 PixelsResolution TypeFull HD+Display TypeFull HD+ LCD LTPS DisplayOther Display Features90 Hz Refresh Rate, 180 Hz Sampling Rate, 20.5:9 Aspect Ratio, LCD LTPS, 500 nits, 90.53% Screen-to-Body Ratio, InCell, Eye Care Mode, NEG Dinorex T2X-1 Glass Protection\n"
          ]
        }
      ]
    },
    {
      "cell_type": "code",
      "source": [
        "df['corpus']=df['corpus'].str.lower()"
      ],
      "metadata": {
        "id": "xOLWsCSHRyxk"
      },
      "execution_count": 7,
      "outputs": []
    },
    {
      "cell_type": "code",
      "source": [
        "random_values('corpus')"
      ],
      "metadata": {
        "colab": {
          "base_uri": "https://localhost:8080/"
        },
        "id": "zd8ACOV1Ry2i",
        "outputId": "76ed50d8-76d5-4f6b-c539-118beca62617"
      },
      "execution_count": 8,
      "outputs": [
        {
          "output_type": "stream",
          "name": "stdout",
          "text": [
            "570 : storage64 gbram3 gbexpandable storage256gb  systemandroid 11processor typequalcomm snapdragon 439processor speed2 13mp 2mp 2mp 13mp 2mp 2mp 13mp 2mp 2mp 8mp 8mp 4g capacity5000 display size16.54 cm (6.51 inch)resolution1600 x 720 pixelsresolution typehd+display typehd+ lcd (ips) display\n",
            "1916 : storage128 gbram8  systemandroid 11processor typequalcomm snapdragon 870processor speed3.2 48mp 13mp 13mp 48mp 13mp 13mp 48mp 13mp 13mp 48mp 32mp 32mp 5g capacity4300 display size16.66 cm (6.56 inch)resolution2376 x 1080 pixelsresolution typefull hd+gpuadreno 650display typefull hd+ amoled displayother display features19.8:9 aspect ratio, 92.70% screen-to-body ratio, 120 hz refresh rate, 240 hz response rate, schott xensation up display protection\n",
            "1387 : storage128 gbram8 gbexpandable storage1tb  systemandroid 13processor typeunisoc tiger t606processor speed1.6 16mp 8mp 4g capacity5000 display size16.76 cm (6.6 inch)resolution1612 x 720resolution typehd+gpuarm mali g57 mp1display typeips lcdother display features90hz refresh rate\n",
            "1534 : storage64 gbram3 gbexpandable storage2tb  systemandroid q android 12, coloros 12.1processor typemediatek helio g35processor speed2.3 8mp 5mp 4g capacity5000 display size16.66 cm (6.56 inch)resolution720 x 1612$$pixelsresolution typehd+gpuimg ge8320display typehd+ lcd displayhd game supportyesother display featuresrefresh rate: 60 hz, screen-to-body ratio: 89.8%, color saturation: 96% ntsc, aspect ratio: 20.15:9, color gamut: vivid mode: 96% ntsc | 100% dci-p3, gentle mode: 72% ntsc | 100% srgb, contrast ratio: 1500:1, sunshine screen: screen brightness will increase under sunlight, brightness: 480 nits/600 nits (under sunlight)\n",
            "950 : storage1024  systemios 15processor typea15 bionic chip 12mp 12mp 12mp 12mp 63mp 12mp 12mp 5g notmentioned display size15.49 cm (6.1 inch)resolution2532 x 1170 pixelsresolution typesuper retina xdr displaydisplay typesuper retina xdr displayother display featuressuper retina xdr display, 6.1 inch (diagonal) all-screen oled display, promotion technology with adaptive refresh rates up to 120hz, hdr display, true tone, wide colour (p3), haptic touch, 20,00,000:1 contrast ratio (typical), 1000 nits max brightness (typical), 1,200 nits max brightness (hdr), fingerprint-resistant oleophobic coating, support for display of multiple languages and characters simultaneously\n",
            "2048 : storage128 gbram4 gbexpandable storage2tb  systemandroid 13processor typet612processor speed1.82 108mp 2mp 108mp 2mp 108mp 8mp 8mp 2g capacity5000 display size17.12 cm (6.74 inch)resolution1600 x 720 pixelresolution typehdgpug57display typehd lcd displaydisplay colors16.7 millionother display featuresrefresh rate: 90 hz, aspect ratio: 20:9, screen-to-body ratio: 90.3%, touch sampling rate: 180 hz, screen contrast: 1500:1, brightness: 450 nits, color saturation: 83.5%, 2.5d glass\n"
          ]
        }
      ]
    },
    {
      "cell_type": "code",
      "source": [
        "df.isnull().sum()"
      ],
      "metadata": {
        "colab": {
          "base_uri": "https://localhost:8080/"
        },
        "id": "7hsXLG7GRy5l",
        "outputId": "6fe27a1c-773c-44c1-a318-d4e8f0f546fa"
      },
      "execution_count": 9,
      "outputs": [
        {
          "output_type": "execute_result",
          "data": {
            "text/plain": [
              "name        0\n",
              "ratings     0\n",
              "price       0\n",
              "imgURL      0\n",
              "corpus     12\n",
              "dtype: int64"
            ]
          },
          "metadata": {},
          "execution_count": 9
        }
      ]
    },
    {
      "cell_type": "code",
      "source": [
        "df.dropna(inplace=True)"
      ],
      "metadata": {
        "id": "dcKB_zw3Ry8R"
      },
      "execution_count": 10,
      "outputs": []
    },
    {
      "cell_type": "code",
      "source": [
        "max_len = 0\n",
        "for i in range(0, len(df['corpus'])):\n",
        "    try:\n",
        "        if len(df['corpus'][i]) > max_len:\n",
        "            max_len = len(df['corpus'][i])\n",
        "    except:\n",
        "        pass\n",
        "\n",
        "print(f'words max len in corpus is: {max_len}')\n"
      ],
      "metadata": {
        "colab": {
          "base_uri": "https://localhost:8080/"
        },
        "id": "d_xSRs6iRy_W",
        "outputId": "2ecb4fdf-c0a1-4c35-e9f7-6f2c20671a40"
      },
      "execution_count": 13,
      "outputs": [
        {
          "output_type": "stream",
          "name": "stdout",
          "text": [
            "words max len in corpus is: 1196\n"
          ]
        }
      ]
    },
    {
      "cell_type": "code",
      "source": [
        "df.sample(10)"
      ],
      "metadata": {
        "colab": {
          "base_uri": "https://localhost:8080/",
          "height": 858
        },
        "id": "OPQBh0j7RzBz",
        "outputId": "8aada230-b730-434a-8057-fa510f7c04fe"
      },
      "execution_count": 14,
      "outputs": [
        {
          "output_type": "execute_result",
          "data": {
            "text/plain": [
              "                                                name  ratings  price  \\\n",
              "1165            realme 9i 5G (Metallica Gold, 64 GB)      4.5  14999   \n",
              "1752         realme Narzo 50A (Oxygen Green, 128 GB)      4.4  11535   \n",
              "105                realme 9 5G (Meteor Black, 64 GB)      4.5  13499   \n",
              "1330        Tecno Spark Go 2021 (Galaxy Blue, 32 GB)      4.2   8288   \n",
              "65                 vivo Y16 (Drizzling Gold, 128 GB)      4.3  12797   \n",
              "1755              REDMI Note 10 (Aqua Green, 128 GB)      4.3  17999   \n",
              "1806  SAMSUNG Galaxy A71 (Prism Crush Black, 128 GB)      4.2  30537   \n",
              "219            REDMI Note 8 Pro (Halo White, 128 GB)      4.5  17999   \n",
              "1627              OnePlus 7T Pro (Haze Blue, 256 GB)      4.5  32537   \n",
              "1898            Redmi Note 7S (Sapphire Blue, 32 GB)      4.4  11999   \n",
              "\n",
              "                                                 imgURL  \\\n",
              "1165  https://rukminim2.flixcart.com/image/312/312/x...   \n",
              "1752  https://rukminim2.flixcart.com/image/312/312/k...   \n",
              "105   https://rukminim2.flixcart.com/image/312/312/l...   \n",
              "1330  https://rukminim2.flixcart.com/image/312/312/k...   \n",
              "65    https://rukminim2.flixcart.com/image/312/312/x...   \n",
              "1755  https://rukminim2.flixcart.com/image/312/312/k...   \n",
              "1806  https://rukminim2.flixcart.com/image/312/312/k...   \n",
              "219   https://rukminim2.flixcart.com/image/312/312/k...   \n",
              "1627  https://rukminim2.flixcart.com/image/312/312/k...   \n",
              "1898  https://rukminim2.flixcart.com/image/312/312/k...   \n",
              "\n",
              "                                                 corpus  \n",
              "1165  storage64 gbram4 gbexpandable storage1tb  syst...  \n",
              "1752  storage128 gbram4 gbexpandable storage256gb  s...  \n",
              "105   storage64 gbram4 gbexpandable storage1tb  syst...  \n",
              "1330  storage32 gbram2 gbexpandable storage256gb  sy...  \n",
              "65    storage128 gbram4 gbexpandable storage1tb  sys...  \n",
              "1755  storage128 gbram6 gbexpandable storage512gb  s...  \n",
              "1806  storage128 gbram8 gbexpandable storage512gb  s...  \n",
              "219   storage128 gbram6 gbexpandable storage512gb  s...  \n",
              "1627  storage256 gbram8  systemandroid pie 10process...  \n",
              "1898  storage32 gbram3 gbexpandable storage256gb  sy...  "
            ],
            "text/html": [
              "\n",
              "\n",
              "  <div id=\"df-9619d1b8-b17f-43a5-859e-fcc15178feda\">\n",
              "    <div class=\"colab-df-container\">\n",
              "      <div>\n",
              "<style scoped>\n",
              "    .dataframe tbody tr th:only-of-type {\n",
              "        vertical-align: middle;\n",
              "    }\n",
              "\n",
              "    .dataframe tbody tr th {\n",
              "        vertical-align: top;\n",
              "    }\n",
              "\n",
              "    .dataframe thead th {\n",
              "        text-align: right;\n",
              "    }\n",
              "</style>\n",
              "<table border=\"1\" class=\"dataframe\">\n",
              "  <thead>\n",
              "    <tr style=\"text-align: right;\">\n",
              "      <th></th>\n",
              "      <th>name</th>\n",
              "      <th>ratings</th>\n",
              "      <th>price</th>\n",
              "      <th>imgURL</th>\n",
              "      <th>corpus</th>\n",
              "    </tr>\n",
              "  </thead>\n",
              "  <tbody>\n",
              "    <tr>\n",
              "      <th>1165</th>\n",
              "      <td>realme 9i 5G (Metallica Gold, 64 GB)</td>\n",
              "      <td>4.5</td>\n",
              "      <td>14999</td>\n",
              "      <td>https://rukminim2.flixcart.com/image/312/312/x...</td>\n",
              "      <td>storage64 gbram4 gbexpandable storage1tb  syst...</td>\n",
              "    </tr>\n",
              "    <tr>\n",
              "      <th>1752</th>\n",
              "      <td>realme Narzo 50A (Oxygen Green, 128 GB)</td>\n",
              "      <td>4.4</td>\n",
              "      <td>11535</td>\n",
              "      <td>https://rukminim2.flixcart.com/image/312/312/k...</td>\n",
              "      <td>storage128 gbram4 gbexpandable storage256gb  s...</td>\n",
              "    </tr>\n",
              "    <tr>\n",
              "      <th>105</th>\n",
              "      <td>realme 9 5G (Meteor Black, 64 GB)</td>\n",
              "      <td>4.5</td>\n",
              "      <td>13499</td>\n",
              "      <td>https://rukminim2.flixcart.com/image/312/312/l...</td>\n",
              "      <td>storage64 gbram4 gbexpandable storage1tb  syst...</td>\n",
              "    </tr>\n",
              "    <tr>\n",
              "      <th>1330</th>\n",
              "      <td>Tecno Spark Go 2021 (Galaxy Blue, 32 GB)</td>\n",
              "      <td>4.2</td>\n",
              "      <td>8288</td>\n",
              "      <td>https://rukminim2.flixcart.com/image/312/312/k...</td>\n",
              "      <td>storage32 gbram2 gbexpandable storage256gb  sy...</td>\n",
              "    </tr>\n",
              "    <tr>\n",
              "      <th>65</th>\n",
              "      <td>vivo Y16 (Drizzling Gold, 128 GB)</td>\n",
              "      <td>4.3</td>\n",
              "      <td>12797</td>\n",
              "      <td>https://rukminim2.flixcart.com/image/312/312/x...</td>\n",
              "      <td>storage128 gbram4 gbexpandable storage1tb  sys...</td>\n",
              "    </tr>\n",
              "    <tr>\n",
              "      <th>1755</th>\n",
              "      <td>REDMI Note 10 (Aqua Green, 128 GB)</td>\n",
              "      <td>4.3</td>\n",
              "      <td>17999</td>\n",
              "      <td>https://rukminim2.flixcart.com/image/312/312/k...</td>\n",
              "      <td>storage128 gbram6 gbexpandable storage512gb  s...</td>\n",
              "    </tr>\n",
              "    <tr>\n",
              "      <th>1806</th>\n",
              "      <td>SAMSUNG Galaxy A71 (Prism Crush Black, 128 GB)</td>\n",
              "      <td>4.2</td>\n",
              "      <td>30537</td>\n",
              "      <td>https://rukminim2.flixcart.com/image/312/312/k...</td>\n",
              "      <td>storage128 gbram8 gbexpandable storage512gb  s...</td>\n",
              "    </tr>\n",
              "    <tr>\n",
              "      <th>219</th>\n",
              "      <td>REDMI Note 8 Pro (Halo White, 128 GB)</td>\n",
              "      <td>4.5</td>\n",
              "      <td>17999</td>\n",
              "      <td>https://rukminim2.flixcart.com/image/312/312/k...</td>\n",
              "      <td>storage128 gbram6 gbexpandable storage512gb  s...</td>\n",
              "    </tr>\n",
              "    <tr>\n",
              "      <th>1627</th>\n",
              "      <td>OnePlus 7T Pro (Haze Blue, 256 GB)</td>\n",
              "      <td>4.5</td>\n",
              "      <td>32537</td>\n",
              "      <td>https://rukminim2.flixcart.com/image/312/312/k...</td>\n",
              "      <td>storage256 gbram8  systemandroid pie 10process...</td>\n",
              "    </tr>\n",
              "    <tr>\n",
              "      <th>1898</th>\n",
              "      <td>Redmi Note 7S (Sapphire Blue, 32 GB)</td>\n",
              "      <td>4.4</td>\n",
              "      <td>11999</td>\n",
              "      <td>https://rukminim2.flixcart.com/image/312/312/k...</td>\n",
              "      <td>storage32 gbram3 gbexpandable storage256gb  sy...</td>\n",
              "    </tr>\n",
              "  </tbody>\n",
              "</table>\n",
              "</div>\n",
              "      <button class=\"colab-df-convert\" onclick=\"convertToInteractive('df-9619d1b8-b17f-43a5-859e-fcc15178feda')\"\n",
              "              title=\"Convert this dataframe to an interactive table.\"\n",
              "              style=\"display:none;\">\n",
              "\n",
              "  <svg xmlns=\"http://www.w3.org/2000/svg\" height=\"24px\"viewBox=\"0 0 24 24\"\n",
              "       width=\"24px\">\n",
              "    <path d=\"M0 0h24v24H0V0z\" fill=\"none\"/>\n",
              "    <path d=\"M18.56 5.44l.94 2.06.94-2.06 2.06-.94-2.06-.94-.94-2.06-.94 2.06-2.06.94zm-11 1L8.5 8.5l.94-2.06 2.06-.94-2.06-.94L8.5 2.5l-.94 2.06-2.06.94zm10 10l.94 2.06.94-2.06 2.06-.94-2.06-.94-.94-2.06-.94 2.06-2.06.94z\"/><path d=\"M17.41 7.96l-1.37-1.37c-.4-.4-.92-.59-1.43-.59-.52 0-1.04.2-1.43.59L10.3 9.45l-7.72 7.72c-.78.78-.78 2.05 0 2.83L4 21.41c.39.39.9.59 1.41.59.51 0 1.02-.2 1.41-.59l7.78-7.78 2.81-2.81c.8-.78.8-2.07 0-2.86zM5.41 20L4 18.59l7.72-7.72 1.47 1.35L5.41 20z\"/>\n",
              "  </svg>\n",
              "      </button>\n",
              "\n",
              "\n",
              "\n",
              "    <div id=\"df-314d75e6-9afc-4d3d-976f-ecbabcbcc379\">\n",
              "      <button class=\"colab-df-quickchart\" onclick=\"quickchart('df-314d75e6-9afc-4d3d-976f-ecbabcbcc379')\"\n",
              "              title=\"Suggest charts.\"\n",
              "              style=\"display:none;\">\n",
              "\n",
              "<svg xmlns=\"http://www.w3.org/2000/svg\" height=\"24px\"viewBox=\"0 0 24 24\"\n",
              "     width=\"24px\">\n",
              "    <g>\n",
              "        <path d=\"M19 3H5c-1.1 0-2 .9-2 2v14c0 1.1.9 2 2 2h14c1.1 0 2-.9 2-2V5c0-1.1-.9-2-2-2zM9 17H7v-7h2v7zm4 0h-2V7h2v10zm4 0h-2v-4h2v4z\"/>\n",
              "    </g>\n",
              "</svg>\n",
              "      </button>\n",
              "    </div>\n",
              "\n",
              "<style>\n",
              "  .colab-df-quickchart {\n",
              "    background-color: #E8F0FE;\n",
              "    border: none;\n",
              "    border-radius: 50%;\n",
              "    cursor: pointer;\n",
              "    display: none;\n",
              "    fill: #1967D2;\n",
              "    height: 32px;\n",
              "    padding: 0 0 0 0;\n",
              "    width: 32px;\n",
              "  }\n",
              "\n",
              "  .colab-df-quickchart:hover {\n",
              "    background-color: #E2EBFA;\n",
              "    box-shadow: 0px 1px 2px rgba(60, 64, 67, 0.3), 0px 1px 3px 1px rgba(60, 64, 67, 0.15);\n",
              "    fill: #174EA6;\n",
              "  }\n",
              "\n",
              "  [theme=dark] .colab-df-quickchart {\n",
              "    background-color: #3B4455;\n",
              "    fill: #D2E3FC;\n",
              "  }\n",
              "\n",
              "  [theme=dark] .colab-df-quickchart:hover {\n",
              "    background-color: #434B5C;\n",
              "    box-shadow: 0px 1px 3px 1px rgba(0, 0, 0, 0.15);\n",
              "    filter: drop-shadow(0px 1px 2px rgba(0, 0, 0, 0.3));\n",
              "    fill: #FFFFFF;\n",
              "  }\n",
              "</style>\n",
              "\n",
              "    <script>\n",
              "      async function quickchart(key) {\n",
              "        const containerElement = document.querySelector('#' + key);\n",
              "        const charts = await google.colab.kernel.invokeFunction(\n",
              "            'suggestCharts', [key], {});\n",
              "      }\n",
              "    </script>\n",
              "\n",
              "      <script>\n",
              "\n",
              "function displayQuickchartButton(domScope) {\n",
              "  let quickchartButtonEl =\n",
              "    domScope.querySelector('#df-314d75e6-9afc-4d3d-976f-ecbabcbcc379 button.colab-df-quickchart');\n",
              "  quickchartButtonEl.style.display =\n",
              "    google.colab.kernel.accessAllowed ? 'block' : 'none';\n",
              "}\n",
              "\n",
              "        displayQuickchartButton(document);\n",
              "      </script>\n",
              "      <style>\n",
              "    .colab-df-container {\n",
              "      display:flex;\n",
              "      flex-wrap:wrap;\n",
              "      gap: 12px;\n",
              "    }\n",
              "\n",
              "    .colab-df-convert {\n",
              "      background-color: #E8F0FE;\n",
              "      border: none;\n",
              "      border-radius: 50%;\n",
              "      cursor: pointer;\n",
              "      display: none;\n",
              "      fill: #1967D2;\n",
              "      height: 32px;\n",
              "      padding: 0 0 0 0;\n",
              "      width: 32px;\n",
              "    }\n",
              "\n",
              "    .colab-df-convert:hover {\n",
              "      background-color: #E2EBFA;\n",
              "      box-shadow: 0px 1px 2px rgba(60, 64, 67, 0.3), 0px 1px 3px 1px rgba(60, 64, 67, 0.15);\n",
              "      fill: #174EA6;\n",
              "    }\n",
              "\n",
              "    [theme=dark] .colab-df-convert {\n",
              "      background-color: #3B4455;\n",
              "      fill: #D2E3FC;\n",
              "    }\n",
              "\n",
              "    [theme=dark] .colab-df-convert:hover {\n",
              "      background-color: #434B5C;\n",
              "      box-shadow: 0px 1px 3px 1px rgba(0, 0, 0, 0.15);\n",
              "      filter: drop-shadow(0px 1px 2px rgba(0, 0, 0, 0.3));\n",
              "      fill: #FFFFFF;\n",
              "    }\n",
              "  </style>\n",
              "\n",
              "      <script>\n",
              "        const buttonEl =\n",
              "          document.querySelector('#df-9619d1b8-b17f-43a5-859e-fcc15178feda button.colab-df-convert');\n",
              "        buttonEl.style.display =\n",
              "          google.colab.kernel.accessAllowed ? 'block' : 'none';\n",
              "\n",
              "        async function convertToInteractive(key) {\n",
              "          const element = document.querySelector('#df-9619d1b8-b17f-43a5-859e-fcc15178feda');\n",
              "          const dataTable =\n",
              "            await google.colab.kernel.invokeFunction('convertToInteractive',\n",
              "                                                     [key], {});\n",
              "          if (!dataTable) return;\n",
              "\n",
              "          const docLinkHtml = 'Like what you see? Visit the ' +\n",
              "            '<a target=\"_blank\" href=https://colab.research.google.com/notebooks/data_table.ipynb>data table notebook</a>'\n",
              "            + ' to learn more about interactive tables.';\n",
              "          element.innerHTML = '';\n",
              "          dataTable['output_type'] = 'display_data';\n",
              "          await google.colab.output.renderOutput(dataTable, element);\n",
              "          const docLink = document.createElement('div');\n",
              "          docLink.innerHTML = docLinkHtml;\n",
              "          element.appendChild(docLink);\n",
              "        }\n",
              "      </script>\n",
              "    </div>\n",
              "  </div>\n"
            ]
          },
          "metadata": {},
          "execution_count": 14
        }
      ]
    },
    {
      "cell_type": "code",
      "source": [
        "random_values('imgURL')"
      ],
      "metadata": {
        "colab": {
          "base_uri": "https://localhost:8080/"
        },
        "id": "Z-2YMrhMRzEn",
        "outputId": "e0ee7242-28f1-45b0-d105-f0074b14c658"
      },
      "execution_count": 15,
      "outputs": [
        {
          "output_type": "stream",
          "name": "stdout",
          "text": [
            "1391 : https://rukminim2.flixcart.com/image/312/312/k7usyvk0/mobile/z/f/6/mi-redmi-note-9-b0784d862m-original-imafqy27hbtc37gv.jpeg?q=70\n",
            "529 : https://rukminim2.flixcart.com/image/312/312/mobile/y/u/a/mi-redmi-note-4-na-original-imaeqdxgrdhxgkcx.jpeg?q=70\n",
            "1228 : https://rukminim2.flixcart.com/image/312/312/kl9rssw0/mobile/u/4/k/e7-power-pamh0013in-pamh0011in-pamh0016in-motorola-original-imagyfu4dkpf6mth.jpeg?q=70\n",
            "968 : https://rukminim2.flixcart.com/image/312/312/xif0q/mobile/m/b/9/spark-10-5g-ki8-tecno-original-imagpa6qxtdz4c3b.jpeg?q=70\n",
            "736 : https://rukminim2.flixcart.com/image/312/312/k0lbdzk0pkrrdj/mobile/z/j/a/mi-redmi-note-7-pro-mzb7465in-original-imafhvrdmeyweauc.jpeg?q=70\n",
            "1097 : https://rukminim2.flixcart.com/image/312/312/xif0q/mobile/4/4/2/spark-9t-kg7h-tecno-original-imagh4sgkzryrbbz.jpeg?q=70\n"
          ]
        }
      ]
    },
    {
      "cell_type": "code",
      "source": [
        "from sklearn.feature_extraction.text import CountVectorizer"
      ],
      "metadata": {
        "id": "_MOzfHkjUuwt"
      },
      "execution_count": 16,
      "outputs": []
    },
    {
      "cell_type": "code",
      "source": [
        "cont_vect=CountVectorizer(max_features=1000)"
      ],
      "metadata": {
        "id": "aNn5uBGYUuzx"
      },
      "execution_count": 17,
      "outputs": []
    },
    {
      "cell_type": "code",
      "source": [
        "arrays=cont_vect.fit_transform(df['corpus'])"
      ],
      "metadata": {
        "id": "n9LB2vALUu2l"
      },
      "execution_count": 18,
      "outputs": []
    },
    {
      "cell_type": "code",
      "source": [
        "vectors = arrays.toarray()"
      ],
      "metadata": {
        "id": "8ZggJPS9Uu5r"
      },
      "execution_count": 20,
      "outputs": []
    },
    {
      "cell_type": "code",
      "source": [
        "cont_vect.get_feature_names_out()"
      ],
      "metadata": {
        "colab": {
          "base_uri": "https://localhost:8080/"
        },
        "id": "8xAb3coXUu8p",
        "outputId": "26101edb-026e-4eff-d033-b2454d98469d"
      },
      "execution_count": 22,
      "outputs": [
        {
          "output_type": "execute_result",
          "data": {
            "text/plain": [
              "array(['00', '000', '02', '03', '04', '05', '07', '07bother', '08', '09',\n",
              "       '0mp', '0primary', '0processor', '10', '100', '1000', '100000',\n",
              "       '1000000', '100mp', '103', '104', '106', '1080', '1080processor',\n",
              "       '1080resolution', '108mp', '10mp', '10processor', '11', '1100',\n",
              "       '1125', '1170', '1179', '11primary', '11processor', '12', '120',\n",
              "       '1200', '1200processor', '120hz', '1242', '1280processor', '1284',\n",
              "       '1290', '12mp', '12primary', '12processor', '13', '1300',\n",
              "       '1300processor', '1330', '1334', '135', '13mp', '13processor',\n",
              "       '14', '1400', '144', '1440', '144hz', '1480', '14processor', '15',\n",
              "       '1500', '1544', '15processor', '16', '160', '1600', '16000',\n",
              "       '1600resolution', '1612', '16mp', '16processor', '18', '180',\n",
              "       '1800', '180hz', '19', '1920', '1920hz', '1processor', '20', '200',\n",
              "       '2000000', '200mp', '20mp', '21', '22', '23', '2340', '24', '240',\n",
              "       '2400', '2400resolution', '2408', '240hz', '2460', '24mp', '25mm',\n",
              "       '25mp', '26', '27', '28', '2d', '2g', '2ghzprocessor', '2mm',\n",
              "       '2mp', '2processor', '2x', '2xhd', '30', '308display', '30hz',\n",
              "       '32', '326', '32mp', '33', '35', '36', '360', '37', '38', '39',\n",
              "       '3d', '3g', '3ghzprocessor', '3mp', '40', '400', '400nits', '401',\n",
              "       '4096', '41', '420', '420nits', '425processor', '43', '430',\n",
              "       '439processor', '44', '440', '44mm', '44mp', '45', '450',\n",
              "       '4500000', '450processor', '460processor', '46mm', '47', '48',\n",
              "       '480', '480hz', '480nits', '488', '48hz', '48mp', '49', '4g',\n",
              "       '4ghzprocessor', '4mp', '50', '500', '5000000', '500nit',\n",
              "       '500nits', '505', '505display', '505other', '506display',\n",
              "       '509display', '50hz', '50mp', '51', '512display', '515', '52',\n",
              "       '53', '54', '55', '550', '56', '57', '58', '580', '59', '5d', '5g',\n",
              "       '5gprocessor', '5mp', '60', '600', '60000', '6020processor',\n",
              "       '60hz', '60mp', '61', '610', '610display', '612display',\n",
              "       '616display', '618display', '619display', '62', '620display',\n",
              "       '625', '625processor', '636processor', '63mp', '64', '640',\n",
              "       '640display', '642ldisplay', '64mp', '65', '650', '650display',\n",
              "       '66', '660', '660display', '662processor', '665', '665processor',\n",
              "       '67', '675processor', '680', '680processor', '69', '695',\n",
              "       '695processor', '6mm', '6processor', '70', '700', '700processor',\n",
              "       '7050processor', '70mm', '71', '712', '72', '720', '720gprocessor',\n",
              "       '720resolution', '73', '730display', '730processor',\n",
              "       '732gprocessor', '74', '740display', '75', '750', '750gprocessor',\n",
              "       '76', '765gprocessor', '77', '778g', '778gprocessor', '78', '7m',\n",
              "       '7mother', '7mp', '7processor', '7t', '80', '800', '800uprocessor',\n",
              "       '81', '810', '8100processor', '810processor', '82', '828', '83',\n",
              "       '84', '85', '850', '850processor', '855', '855processor', '86',\n",
              "       '865processor', '87', '870processor', '87mm', '88', '888',\n",
              "       '888processor', '89', '8mp', '8processor', '90', '900',\n",
              "       '900processor', '90hz', '90nit', '91', '92', '920processor', '93',\n",
              "       '94', '95', '950', '96', '9611', '9611processor', '97', '98',\n",
              "       '98mm', '99', '9processor', 'a10', 'a11', 'a22processor',\n",
              "       'a618display', 'a9', 'aa', 'access', 'active', 'adaptive',\n",
              "       'adjustment', 'adreno', 'agc', 'aieprocessor', 'all', 'always',\n",
              "       'amazon', 'ambient', 'amoled', 'amoleddisplay', 'amoledhd',\n",
              "       'amoledother', 'an', 'and', 'android', 'angle', 'angles', 'anti',\n",
              "       'anywhere', 'area', 'arrangement', 'aspect', 'at', 'auto', 'back',\n",
              "       'backlit', 'based', 'bazel', 'bezel', 'billionother', 'bionic',\n",
              "       'bit', 'blue', 'body', 'border', 'bottom', 'brightness', 'by',\n",
              "       'c3', 'camera', 'capacitive', 'capacity1000', 'capacity1440',\n",
              "       'capacity1715', 'capacity2750', 'capacity2915', 'capacity3000',\n",
              "       'capacity3080', 'capacity3180', 'capacity3200', 'capacity3300',\n",
              "       'capacity3400', 'capacity3500', 'capacity3700', 'capacity3900',\n",
              "       'capacity4000', 'capacity4015', 'capacity4020', 'capacity4030',\n",
              "       'capacity4050', 'capacity4100', 'capacity4115', 'capacity4200',\n",
              "       'capacity4230', 'capacity4250', 'capacity4300', 'capacity4400',\n",
              "       'capacity4500', 'capacity4520', 'capacity4600', 'capacity4700',\n",
              "       'capacity4800', 'capacity5000', 'capacity5020', 'capacity5160',\n",
              "       'capacity6000', 'capacity7000', 'capacity800', 'care', 'cd',\n",
              "       'cell', 'celldisplay', 'cellother', 'certification', 'certified',\n",
              "       'channel', 'characters', 'chip', 'clear', 'clock', 'cm', 'coating',\n",
              "       'cof', 'cog', 'color', 'coloros', 'colorother', 'colors',\n",
              "       'colors1', 'colors10', 'colors16', 'colors16m', 'colors16mother',\n",
              "       'colors65', 'colorscontrast', 'colour', 'comfort', 'contrast',\n",
              "       'control', 'core', 'coredisplay', 'coreocta', 'coreprocessor',\n",
              "       'corning', 'cover', 'coverage', 'curved', 'cut', 'dc', 'dci',\n",
              "       'degree', 'design', 'designed', 'dewdrop', 'diagonal', 'dimensity',\n",
              "       'dimming', 'dinorex', 'display', 'displaydisplay', 'displaygpu4',\n",
              "       'displaygpu5', 'displaygpuadreno', 'displaygpuarm',\n",
              "       'displaygpupowervr', 'displaygpuqualcomm', 'displayhd',\n",
              "       'displaymate', 'displayother', 'dolby', 'domain', 'dot', 'down',\n",
              "       'dual', 'dynamic', 'e3', 'edge', 'edition', 'enhancer',\n",
              "       'experience', 'exynos', 'eye', 'f01', 'face', 'faster',\n",
              "       'features120', 'features1200nits', 'features120hz', 'features1300',\n",
              "       'features1400', 'features16', 'features180', 'features180hz',\n",
              "       'features19', 'features2', 'features20', 'features6', 'features60',\n",
              "       'features89', 'features90', 'features90hz', 'featuresadaptive',\n",
              "       'featuresaspect', 'featuresbezel', 'featurescontrast',\n",
              "       'featurescorning', 'featuresdisplay', 'featuresdolby',\n",
              "       'featuresdynamic', 'featuresfullview', 'featureshalo',\n",
              "       'featureshdr', 'featuresin', 'featuresips', 'featuresled',\n",
              "       'featuresmulti', 'featuresnarrow', 'featureson', 'featuresrefresh',\n",
              "       'featuresretina', 'featuresscreen', 'featuressuper',\n",
              "       'featurestouch', 'featuresvideo', 'featureswidescreen', 'fhd',\n",
              "       'film', 'finger', 'fingerprint', 'fluiddisplay', 'for', 'fps',\n",
              "       'frame', 'frequencygsm', 'from', 'front', 'full', 'fullview',\n",
              "       'fusion', 'g25processor', 'g35processor', 'g37processor', 'g52',\n",
              "       'g52display', 'g57', 'g57display', 'g610', 'g68', 'g68display',\n",
              "       'g70processor', 'g71', 'g72', 'g76', 'g76display', 'g77',\n",
              "       'g77display', 'g80processor', 'g85processor', 'g88processor',\n",
              "       'g90tprocessor', 'g95processor', 'g96processor', 'g99processor',\n",
              "       'game', 'gameplay', 'gamut', 'gbexpandable', 'gbram1', 'gbram12',\n",
              "       'gbram128', 'gbram16', 'gbram2', 'gbram3', 'gbram4', 'gbram6',\n",
              "       'gbram8', 'gbtotal', 'ge8320', 'ge8320display', 'ge8322display',\n",
              "       'gen', 'generation', 'gentle', 'gestures', 'gff', 'gg3', 'gg5',\n",
              "       'ghz', 'ghzprocessor', 'glass', 'go', 'goprocessor', 'gorilla',\n",
              "       'gpu', 'gpuadreno', 'gpuarm', 'gpuge8320display', 'gpuimagination',\n",
              "       'gpuimg', 'gpumali', 'gpupowervr', 'gpuqualcomm', 'graphics',\n",
              "       'gt7600', 'halo', 'haptic', 'hbm', 'hd', 'hdgpuadreno', 'hdgpuarm',\n",
              "       'hdr', 'hdr10', 'helio', 'high', 'hios', 'hole', 'hz', 'in',\n",
              "       'incell', 'inch', 'increase', 'infinity', 'intensive', 'ion',\n",
              "       'ips', 'ipsdisplay', 'ipsother', 'is', 'island', 'kitkat',\n",
              "       'languages', 'layer', 'lcd', 'lcddisplay', 'lcdhd', 'lcdother',\n",
              "       'led', 'left', 'level', 'light', 'liquid', 'local', 'lollipop',\n",
              "       'low', 'lower', 'ltps', 'm2', 'mali', 'marshmallow', 'material',\n",
              "       'max', 'maximum', 'mbram4', 'mc2', 'mc2display', 'mc3display',\n",
              "       'mc4display', 'mc6display', 'mc9display', 'mediatek', 'memc',\n",
              "       'memory128gb', 'memory64gb', 'metal', 'mhz', 'mhzdisplay',\n",
              "       'mhzother', 'millionother', 'min', 'minimum', 'miui', 'mm',\n",
              "       'mn228', 'mobile', 'mode', 'more', 'mother', 'motion',\n",
              "       'mp1display', 'mp2display', 'mp3', 'mp3display', 'mp4display',\n",
              "       'mp5display', 'mt6762processor', 'mt6765', 'mt6771v', 'multi',\n",
              "       'multiple', 'nano', 'narrow', 'neg', 'new', 'night', 'nit', 'nits',\n",
              "       'nm', 'no', 'normal', 'notch', 'notmentioned', 'nougat', 'ntsc',\n",
              "       'octa', 'octacoreprocessor', 'of', 'off', 'oled', 'oleophobic',\n",
              "       'oleophpbic', 'on', 'oncell', 'oneplus', 'optimised', 'oreo', 'os',\n",
              "       'other', 'outdoor', 'outside', 'over', 'oxygen', 'oxygenos',\n",
              "       'oxygenosprocessor', 'p22', 'p22processor', 'p2i', 'p3', 'p35',\n",
              "       'p35processor', 'p60', 'p70', 'p70processor', 'p95processor',\n",
              "       'panda', 'panel', 'peak', 'percent', 'performance', 'peripheral',\n",
              "       'phone', 'pie', 'pixel', 'pixelgpuadreno', 'pixelresolution',\n",
              "       'pixels', 'pixelsdisplay', 'pixelsgpuadreno', 'pixelsgpuapple',\n",
              "       'pixelsgpuarm', 'pixelsresolution', 'platformprocessor',\n",
              "       'playback', 'plusprocessor', 'points', 'poled', 'powervr',\n",
              "       'powervrdisplay', 'ppi', 'print', 'pro', 'process', 'processor',\n",
              "       'processorprocessor', 'promotion', 'proof', 'proportion',\n",
              "       'protected', 'protection', 'protective', 'protector', 'punch',\n",
              "       'pwm', 'pwm2160hz', 'quad', 'rate', 'rates', 'ratio', 'rdother',\n",
              "       'reachability', 'reading', 'refresh', 'repellent', 'resistant',\n",
              "       'resolution', 'resolution1080', 'resolution1080x2400',\n",
              "       'resolution1136', 'resolution128', 'resolution1280',\n",
              "       'resolution1334', 'resolution1440', 'resolution1520',\n",
              "       'resolution1560', 'resolution1600', 'resolution1600x720',\n",
              "       'resolution1612', 'resolution1612x720', 'resolution1640',\n",
              "       'resolution1650', 'resolution1650x720', 'resolution1792',\n",
              "       'resolution1920', 'resolution1920x1080', 'resolution2160',\n",
              "       'resolution2160x1080', 'resolution2280', 'resolution2340',\n",
              "       'resolution2376', 'resolution2400', 'resolution2400x1080',\n",
              "       'resolution2404', 'resolution2408', 'resolution2412',\n",
              "       'resolution2436', 'resolution2460', 'resolution2480',\n",
              "       'resolution2532', 'resolution2556', 'resolution2640',\n",
              "       'resolution2688', 'resolution2772x1240', 'resolution2778',\n",
              "       'resolution2796', 'resolution3088', 'resolution3216',\n",
              "       'resolution720', 'resolution720x1600', 'resolution750', 'retina',\n",
              "       'rheinland', 'right', 's5e8535', 'samoled', 'sampling', 'samsung',\n",
              "       'saturation', 'sc9863a1processor', 'schott', 'scratch', 'screen',\n",
              "       'sdm450', 'sealing', 'seamless', 'sensor', 'sgs', 'si', 'side',\n",
              "       'simultaneously', 'six', 'size', 'size10', 'size11', 'size12',\n",
              "       'size13', 'size14', 'size15', 'size16', 'size17', 'size19',\n",
              "       'size3', 'size5', 'slim', 'smart', 'smooth', 'snapdragon', 'space',\n",
              "       'speed1', 'speed2', 'speed208', 'speed3', 'speed90', 'splash',\n",
              "       'srgb', 'standard', 'static', 'storage1024', 'storage128',\n",
              "       'storage128gb', 'storage16', 'storage1tb', 'storage2',\n",
              "       'storage256', 'storage256gb', 'storage2tb', 'storage32',\n",
              "       'storage512', 'storage512gb', 'storage64', 'storage8',\n",
              "       'stroboscopic', 'sunlight', 'sunshine', 'super', 'supplier',\n",
              "       'support', 'supports', 'supportyes', 'supportyesdisplay',\n",
              "       'supportyesother', 'sync', 'systemandroid',\n",
              "       'systemandroidprocessor', 'systemios', 't2x', 't606processor',\n",
              "       't610processor', 't612processor', 't616processor', 't830', 'tap',\n",
              "       'technology', 'technologyhd', 'technologyother', 'temperature',\n",
              "       'texture', 'tft', 'tftother', 'than', 'that', 'the', 'to', 'tone',\n",
              "       'top', 'touch', 'tp', 'true', 'tuv', 'typ', 'type', 'type2',\n",
              "       'typea10', 'typea11', 'typea12', 'typea13', 'typea14', 'typea15',\n",
              "       'typea16', 'typea6', 'typea8', 'typea9', 'typeall', 'typeamoled',\n",
              "       'typeamoleddisplay', 'typeamoledother', 'typeapple',\n",
              "       'typecapacitive', 'typedimensity', 'typedotdisplayhd',\n",
              "       'typedynamic', 'typeexynos', 'typefhd', 'typefluid', 'typefull',\n",
              "       'typeg37processor', 'typehd', 'typehddisplay', 'typehdgpuadreno',\n",
              "       'typehdgpumali', 'typehelio', 'typein', 'typeips', 'typeipsother',\n",
              "       'typelcdhd', 'typeled', 'typeli', 'typeliquid', 'typemediatek',\n",
              "       'typemt6763tprocessor', 'typemtk', 'typeocta', 'typepls',\n",
              "       'typequad', 'typequalcomm', 'typeretina', 'typesamsung', 'typesec',\n",
              "       'typesnapdragon', 'typesuper', 'typetft', 'typetftdisplay',\n",
              "       'typeunisoc', 'typewidescreen', 'typical', 'tüv', 'ultra', 'under',\n",
              "       'unlock', 'up', 'upper', 'upto', 'usb', 'value', 'victus', 'view',\n",
              "       'viewing', 'vision', 'visuals', 'vivid', 'wake', 'water',\n",
              "       'waterdrop', 'wide', 'widescreen', 'will', 'with', 'xdr',\n",
              "       'xensation', 'you', 'zoom'], dtype=object)"
            ]
          },
          "metadata": {},
          "execution_count": 22
        }
      ]
    },
    {
      "cell_type": "code",
      "source": [
        "from sklearn.metrics.pairwise import cosine_similarity"
      ],
      "metadata": {
        "id": "5mT5Me9rUu_W"
      },
      "execution_count": 23,
      "outputs": []
    },
    {
      "cell_type": "code",
      "source": [
        "similarity=cosine_similarity(vectors)"
      ],
      "metadata": {
        "id": "cnnlok3EUvCO"
      },
      "execution_count": 24,
      "outputs": []
    },
    {
      "cell_type": "code",
      "source": [
        "similarity.shape"
      ],
      "metadata": {
        "colab": {
          "base_uri": "https://localhost:8080/"
        },
        "id": "rySbBISfUvFV",
        "outputId": "bd9fd356-d5fd-40fd-af97-a9c9cc63bed1"
      },
      "execution_count": 25,
      "outputs": [
        {
          "output_type": "execute_result",
          "data": {
            "text/plain": [
              "(2534, 2534)"
            ]
          },
          "metadata": {},
          "execution_count": 25
        }
      ]
    },
    {
      "cell_type": "code",
      "source": [
        "sorted(list(enumerate(similarity[0])),reverse=True,key=lambda x:x[1])[1:11]"
      ],
      "metadata": {
        "colab": {
          "base_uri": "https://localhost:8080/"
        },
        "id": "V7MEbsEwUvIN",
        "outputId": "437a7830-6758-4f14-c083-e01486bf4a66"
      },
      "execution_count": 27,
      "outputs": [
        {
          "output_type": "execute_result",
          "data": {
            "text/plain": [
              "[(68, 0.9999999999999997),\n",
              " (303, 0.9999999999999997),\n",
              " (616, 0.9850746268656713),\n",
              " (1461, 0.9850746268656713),\n",
              " (457, 0.970149253731343),\n",
              " (1027, 0.970149253731343),\n",
              " (1735, 0.970149253731343),\n",
              " (569, 0.9468131937613656),\n",
              " (1123, 0.9468131937613656),\n",
              " (1540, 0.9468131937613656)]"
            ]
          },
          "metadata": {},
          "execution_count": 27
        }
      ]
    },
    {
      "cell_type": "code",
      "source": [
        "def recommend(mobile):\n",
        "  mobile_index=df[df['name']==mobile].index[0]\n",
        "  similarity_array=similarity[mobile_index]\n",
        "  similar_10_mobiles=sorted(list(enumerate(similarity_array)),reverse=True,key=lambda x:x[1])[1:11]\n",
        "\n",
        "  for i in similar_10_mobiles:\n",
        "    print(df['name'].iloc[i[0]])"
      ],
      "metadata": {
        "id": "PXjIxklFUvLZ"
      },
      "execution_count": 31,
      "outputs": []
    },
    {
      "cell_type": "code",
      "source": [
        "recommend('APPLE iPhone 13 mini (Blue, 128 GB)')"
      ],
      "metadata": {
        "colab": {
          "base_uri": "https://localhost:8080/"
        },
        "id": "6dsmtW4kRzHZ",
        "outputId": "6a5e721b-242b-45a0-d1be-d3f7a96e1673"
      },
      "execution_count": 32,
      "outputs": [
        {
          "output_type": "stream",
          "name": "stdout",
          "text": [
            "APPLE iPhone 13 mini ((PRODUCT)RED, 128 GB)\n",
            "APPLE iPhone 13 mini (Starlight, 128 GB)\n",
            "APPLE iPhone 13 mini (Green, 128 GB)\n",
            "APPLE iPhone 13 mini (Midnight, 128 GB)\n",
            "APPLE iPhone 13 mini (Green, 256 GB)\n",
            "APPLE iPhone 13 mini (Midnight, 512 GB)\n",
            "APPLE iPhone 13 mini (Pink, 512 GB)\n",
            "APPLE iPhone 13 mini (Starlight, 256 GB)\n",
            "APPLE iPhone 13 mini (Midnight, 256 GB)\n",
            "APPLE iPhone 13 mini (Pink, 256 GB)\n"
          ]
        }
      ]
    },
    {
      "cell_type": "code",
      "source": [
        "recommend('OnePlus 7T Pro (Haze Blue, 256 GB)')"
      ],
      "metadata": {
        "colab": {
          "base_uri": "https://localhost:8080/"
        },
        "id": "9FQUzx-5RzKE",
        "outputId": "e6920c42-fd68-4b61-db78-e72842de8182"
      },
      "execution_count": 33,
      "outputs": [
        {
          "output_type": "stream",
          "name": "stdout",
          "text": [
            "OPPO Reno10 Pro+ 5G (Silvery Grey, 256 GB)\n",
            "OPPO Reno10 Pro 5G (Glossy Purple, 256 GB)\n",
            "OPPO Reno10 Pro 5G (Silvery Grey, 256 GB)\n",
            "vivo X90 (Breeze Blue, 256 GB)\n",
            "vivo X90 (Breeze Blue, 256 GB)\n",
            "vivo X90 (Asteroid Black, 256 GB)\n",
            "vivo X60 Pro+ (Emperor Blue, 256 GB)\n",
            "vivo X90 (Breeze Blue, 256 GB)\n",
            "vivo V27 Pro 5G (Noble Black, 256 GB)\n",
            "vivo V27 Pro 5G (Magic Blue, 256 GB)\n"
          ]
        }
      ]
    },
    {
      "cell_type": "code",
      "source": [
        "os.makedirs(r'src\\model',exist_ok=True)"
      ],
      "metadata": {
        "id": "bDTtNPQ4RzMZ"
      },
      "execution_count": 34,
      "outputs": []
    },
    {
      "cell_type": "code",
      "source": [
        "pickle.dump(obj=df,file=open(file=r'src\\model\\dataframe.pkl',mode='wb'))"
      ],
      "metadata": {
        "id": "kjOWOpRPRzP_"
      },
      "execution_count": 35,
      "outputs": []
    },
    {
      "cell_type": "code",
      "source": [
        "pickle.dump(obj=similarity,file=open(file=r'src\\model\\similarity.pkl',mode='wb'))"
      ],
      "metadata": {
        "id": "yc4akNnnYLYV"
      },
      "execution_count": 36,
      "outputs": []
    },
    {
      "cell_type": "code",
      "source": [],
      "metadata": {
        "id": "EiSRNqhZYZhs"
      },
      "execution_count": null,
      "outputs": []
    }
  ]
}